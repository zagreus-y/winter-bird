{
  "nbformat": 4,
  "nbformat_minor": 5,
  "metadata": {
    "kernelspec": {
      "display_name": "Python 3",
      "language": "python",
      "name": "python3"
    },
    "language_info": {
      "codemirror_mode": {
        "name": "ipython",
        "version": 3
      },
      "file_extension": ".py",
      "mimetype": "text/x-python",
      "name": "python",
      "nbconvert_exporter": "python",
      "pygments_lexer": "ipython3",
      "version": "3.7.1"
    },
    "colab": {
      "name": "Titanic.ipynb",
      "provenance": [],
      "collapsed_sections": [],
      "include_colab_link": true
    }
  },
  "cells": [
    {
      "cell_type": "markdown",
      "metadata": {
        "id": "view-in-github",
        "colab_type": "text"
      },
      "source": [
        "<a href=\"https://colab.research.google.com/github/shadowclone/winter-bird/blob/master/Titanic.ipynb\" target=\"_parent\"><img src=\"https://colab.research.google.com/assets/colab-badge.svg\" alt=\"Open In Colab\"/></a>"
      ]
    },
    {
      "cell_type": "markdown",
      "metadata": {
        "id": "01f81b49"
      },
      "source": [
        "##  Importing Packages"
      ],
      "id": "01f81b49"
    },
    {
      "cell_type": "code",
      "metadata": {
        "id": "7ada4ddc"
      },
      "source": [
        "import pandas as pd\n",
        "import numpy as np\n",
        "import seaborn as sns\n",
        "import matplotlib.pyplot as plt\n",
        "sns.set_style('whitegrid')"
      ],
      "id": "7ada4ddc",
      "execution_count": null,
      "outputs": []
    },
    {
      "cell_type": "markdown",
      "metadata": {
        "id": "750bb0eb"
      },
      "source": [
        "## Loading Necessary Datasets"
      ],
      "id": "750bb0eb"
    },
    {
      "cell_type": "code",
      "metadata": {
        "colab": {
          "base_uri": "https://localhost:8080/",
          "height": 381
        },
        "id": "fdcf69cb",
        "outputId": "c87c753c-e534-4bda-a0f6-8ff25b1c7233"
      },
      "source": [
        "tit_data= pd.read_csv(\"/content/train.csv\")\n",
        "print(tit_data.shape)\n",
        "tit_data.head(10)"
      ],
      "id": "fdcf69cb",
      "execution_count": 39,
      "outputs": [
        {
          "output_type": "stream",
          "name": "stdout",
          "text": [
            "(891, 12)\n"
          ]
        },
        {
          "output_type": "execute_result",
          "data": {
            "text/html": [
              "<div>\n",
              "<style scoped>\n",
              "    .dataframe tbody tr th:only-of-type {\n",
              "        vertical-align: middle;\n",
              "    }\n",
              "\n",
              "    .dataframe tbody tr th {\n",
              "        vertical-align: top;\n",
              "    }\n",
              "\n",
              "    .dataframe thead th {\n",
              "        text-align: right;\n",
              "    }\n",
              "</style>\n",
              "<table border=\"1\" class=\"dataframe\">\n",
              "  <thead>\n",
              "    <tr style=\"text-align: right;\">\n",
              "      <th></th>\n",
              "      <th>PassengerId</th>\n",
              "      <th>Survived</th>\n",
              "      <th>Pclass</th>\n",
              "      <th>Name</th>\n",
              "      <th>Sex</th>\n",
              "      <th>Age</th>\n",
              "      <th>SibSp</th>\n",
              "      <th>Parch</th>\n",
              "      <th>Ticket</th>\n",
              "      <th>Fare</th>\n",
              "      <th>Cabin</th>\n",
              "      <th>Embarked</th>\n",
              "    </tr>\n",
              "  </thead>\n",
              "  <tbody>\n",
              "    <tr>\n",
              "      <th>0</th>\n",
              "      <td>1</td>\n",
              "      <td>0</td>\n",
              "      <td>3</td>\n",
              "      <td>Braund, Mr. Owen Harris</td>\n",
              "      <td>male</td>\n",
              "      <td>22.0</td>\n",
              "      <td>1</td>\n",
              "      <td>0</td>\n",
              "      <td>A/5 21171</td>\n",
              "      <td>7.2500</td>\n",
              "      <td>NaN</td>\n",
              "      <td>S</td>\n",
              "    </tr>\n",
              "    <tr>\n",
              "      <th>1</th>\n",
              "      <td>2</td>\n",
              "      <td>1</td>\n",
              "      <td>1</td>\n",
              "      <td>Cumings, Mrs. John Bradley (Florence Briggs Th...</td>\n",
              "      <td>female</td>\n",
              "      <td>38.0</td>\n",
              "      <td>1</td>\n",
              "      <td>0</td>\n",
              "      <td>PC 17599</td>\n",
              "      <td>71.2833</td>\n",
              "      <td>C85</td>\n",
              "      <td>C</td>\n",
              "    </tr>\n",
              "    <tr>\n",
              "      <th>2</th>\n",
              "      <td>3</td>\n",
              "      <td>1</td>\n",
              "      <td>3</td>\n",
              "      <td>Heikkinen, Miss. Laina</td>\n",
              "      <td>female</td>\n",
              "      <td>26.0</td>\n",
              "      <td>0</td>\n",
              "      <td>0</td>\n",
              "      <td>STON/O2. 3101282</td>\n",
              "      <td>7.9250</td>\n",
              "      <td>NaN</td>\n",
              "      <td>S</td>\n",
              "    </tr>\n",
              "    <tr>\n",
              "      <th>3</th>\n",
              "      <td>4</td>\n",
              "      <td>1</td>\n",
              "      <td>1</td>\n",
              "      <td>Futrelle, Mrs. Jacques Heath (Lily May Peel)</td>\n",
              "      <td>female</td>\n",
              "      <td>35.0</td>\n",
              "      <td>1</td>\n",
              "      <td>0</td>\n",
              "      <td>113803</td>\n",
              "      <td>53.1000</td>\n",
              "      <td>C123</td>\n",
              "      <td>S</td>\n",
              "    </tr>\n",
              "    <tr>\n",
              "      <th>4</th>\n",
              "      <td>5</td>\n",
              "      <td>0</td>\n",
              "      <td>3</td>\n",
              "      <td>Allen, Mr. William Henry</td>\n",
              "      <td>male</td>\n",
              "      <td>35.0</td>\n",
              "      <td>0</td>\n",
              "      <td>0</td>\n",
              "      <td>373450</td>\n",
              "      <td>8.0500</td>\n",
              "      <td>NaN</td>\n",
              "      <td>S</td>\n",
              "    </tr>\n",
              "    <tr>\n",
              "      <th>5</th>\n",
              "      <td>6</td>\n",
              "      <td>0</td>\n",
              "      <td>3</td>\n",
              "      <td>Moran, Mr. James</td>\n",
              "      <td>male</td>\n",
              "      <td>NaN</td>\n",
              "      <td>0</td>\n",
              "      <td>0</td>\n",
              "      <td>330877</td>\n",
              "      <td>8.4583</td>\n",
              "      <td>NaN</td>\n",
              "      <td>Q</td>\n",
              "    </tr>\n",
              "    <tr>\n",
              "      <th>6</th>\n",
              "      <td>7</td>\n",
              "      <td>0</td>\n",
              "      <td>1</td>\n",
              "      <td>McCarthy, Mr. Timothy J</td>\n",
              "      <td>male</td>\n",
              "      <td>54.0</td>\n",
              "      <td>0</td>\n",
              "      <td>0</td>\n",
              "      <td>17463</td>\n",
              "      <td>51.8625</td>\n",
              "      <td>E46</td>\n",
              "      <td>S</td>\n",
              "    </tr>\n",
              "    <tr>\n",
              "      <th>7</th>\n",
              "      <td>8</td>\n",
              "      <td>0</td>\n",
              "      <td>3</td>\n",
              "      <td>Palsson, Master. Gosta Leonard</td>\n",
              "      <td>male</td>\n",
              "      <td>2.0</td>\n",
              "      <td>3</td>\n",
              "      <td>1</td>\n",
              "      <td>349909</td>\n",
              "      <td>21.0750</td>\n",
              "      <td>NaN</td>\n",
              "      <td>S</td>\n",
              "    </tr>\n",
              "    <tr>\n",
              "      <th>8</th>\n",
              "      <td>9</td>\n",
              "      <td>1</td>\n",
              "      <td>3</td>\n",
              "      <td>Johnson, Mrs. Oscar W (Elisabeth Vilhelmina Berg)</td>\n",
              "      <td>female</td>\n",
              "      <td>27.0</td>\n",
              "      <td>0</td>\n",
              "      <td>2</td>\n",
              "      <td>347742</td>\n",
              "      <td>11.1333</td>\n",
              "      <td>NaN</td>\n",
              "      <td>S</td>\n",
              "    </tr>\n",
              "    <tr>\n",
              "      <th>9</th>\n",
              "      <td>10</td>\n",
              "      <td>1</td>\n",
              "      <td>2</td>\n",
              "      <td>Nasser, Mrs. Nicholas (Adele Achem)</td>\n",
              "      <td>female</td>\n",
              "      <td>14.0</td>\n",
              "      <td>1</td>\n",
              "      <td>0</td>\n",
              "      <td>237736</td>\n",
              "      <td>30.0708</td>\n",
              "      <td>NaN</td>\n",
              "      <td>C</td>\n",
              "    </tr>\n",
              "  </tbody>\n",
              "</table>\n",
              "</div>"
            ],
            "text/plain": [
              "   PassengerId  Survived  Pclass  ...     Fare Cabin  Embarked\n",
              "0            1         0       3  ...   7.2500   NaN         S\n",
              "1            2         1       1  ...  71.2833   C85         C\n",
              "2            3         1       3  ...   7.9250   NaN         S\n",
              "3            4         1       1  ...  53.1000  C123         S\n",
              "4            5         0       3  ...   8.0500   NaN         S\n",
              "5            6         0       3  ...   8.4583   NaN         Q\n",
              "6            7         0       1  ...  51.8625   E46         S\n",
              "7            8         0       3  ...  21.0750   NaN         S\n",
              "8            9         1       3  ...  11.1333   NaN         S\n",
              "9           10         1       2  ...  30.0708   NaN         C\n",
              "\n",
              "[10 rows x 12 columns]"
            ]
          },
          "metadata": {},
          "execution_count": 39
        }
      ]
    },
    {
      "cell_type": "markdown",
      "metadata": {
        "id": "cd504cad"
      },
      "source": [
        "## Assessment of missing values"
      ],
      "id": "cd504cad"
    },
    {
      "cell_type": "code",
      "metadata": {
        "colab": {
          "base_uri": "https://localhost:8080/"
        },
        "id": "8380353d",
        "outputId": "155bec1d-5b57-4404-c380-3e476a48bb04"
      },
      "source": [
        "tit_data.isnull().sum()"
      ],
      "id": "8380353d",
      "execution_count": null,
      "outputs": [
        {
          "output_type": "execute_result",
          "data": {
            "text/plain": [
              "PassengerId      0\n",
              "Survived         0\n",
              "Pclass           0\n",
              "Name             0\n",
              "Sex              0\n",
              "Age            177\n",
              "SibSp            0\n",
              "Parch            0\n",
              "Ticket           0\n",
              "Fare             0\n",
              "Cabin          687\n",
              "Embarked         2\n",
              "dtype: int64"
            ]
          },
          "metadata": {},
          "execution_count": 7
        }
      ]
    },
    {
      "cell_type": "code",
      "metadata": {
        "colab": {
          "base_uri": "https://localhost:8080/"
        },
        "id": "8929dde4",
        "outputId": "f46dd3e5-c4a3-4f4b-cc75-dd65f52835c2"
      },
      "source": [
        "print('Misiing Age Values: ',((tit_data['Age'].isnull().sum()/tit_data.shape[0])*100),'%')\n",
        "print('Misiing Cabin Values: ',((tit_data['Cabin'].isnull().sum()/tit_data.shape[0])*100),'%')\n",
        "print('Misiing Embarked Values: ',((tit_data['Embarked'].isnull().sum()/tit_data.shape[0])*100),'%')"
      ],
      "id": "8929dde4",
      "execution_count": null,
      "outputs": [
        {
          "output_type": "stream",
          "name": "stdout",
          "text": [
            "Misiing Age Values:  19.865319865319865 %\n",
            "Misiing Cabin Values:  77.10437710437711 %\n",
            "Misiing Embarked Values:  0.22446689113355783 %\n"
          ]
        }
      ]
    },
    {
      "cell_type": "code",
      "metadata": {
        "colab": {
          "base_uri": "https://localhost:8080/",
          "height": 297
        },
        "id": "bcc78446",
        "outputId": "34576520-c3d3-4e8a-a17a-5c3d361e04d6"
      },
      "source": [
        "sns.histplot(data=tit_data, x=\"Age\",kde='True',color=\"teal\")"
      ],
      "id": "bcc78446",
      "execution_count": null,
      "outputs": [
        {
          "output_type": "execute_result",
          "data": {
            "text/plain": [
              "<matplotlib.axes._subplots.AxesSubplot at 0x7fdac6947b50>"
            ]
          },
          "metadata": {},
          "execution_count": 9
        },
        {
          "output_type": "display_data",
          "data": {
            "image/png": "[encoded data removed]",
            "text/plain": [
              "<Figure size 432x288 with 1 Axes>"
            ]
          },
          "metadata": {
            "needs_background": "light"
          }
        }
      ]
    },
    {
      "cell_type": "code",
      "metadata": {
        "colab": {
          "base_uri": "https://localhost:8080/",
          "height": 297
        },
        "id": "fdf6a716",
        "outputId": "abc40238-af74-4fef-9317-f96f46b022b5"
      },
      "source": [
        "sns.countplot(data=tit_data, x=\"Embarked\",color=\"grey\")"
      ],
      "id": "fdf6a716",
      "execution_count": null,
      "outputs": [
        {
          "output_type": "execute_result",
          "data": {
            "text/plain": [
              "<matplotlib.axes._subplots.AxesSubplot at 0x7fdac5837bd0>"
            ]
          },
          "metadata": {},
          "execution_count": 10
        },
        {
          "output_type": "display_data",
          "data": {
            "image/png": "[encoded data removed]",
            "text/plain": [
              "<Figure size 432x288 with 1 Axes>"
            ]
          },
          "metadata": {
            "needs_background": "light"
          }
        }
      ]
    },
    {
      "cell_type": "code",
      "metadata": {
        "id": "5b0a1f42"
      },
      "source": [
        "train_data=tit_data.copy()\n",
        "train_data[\"Age\"].fillna(train_data[\"Age\"].median(skipna=True), inplace=True)\n",
        "train_data[\"Embarked\"].fillna(train_data['Embarked'].value_counts().idxmax(), inplace=True)\n",
        "train_data.drop('Cabin', axis=1, inplace=True)\n",
        "tit_data=train_data.copy()"
      ],
      "id": "5b0a1f42",
      "execution_count": null,
      "outputs": []
    },
    {
      "cell_type": "code",
      "metadata": {
        "colab": {
          "base_uri": "https://localhost:8080/"
        },
        "id": "8a35f7cb",
        "outputId": "de74167c-df9d-4717-ec29-b52c96e96b11"
      },
      "source": [
        "train_data.isnull().sum()"
      ],
      "id": "8a35f7cb",
      "execution_count": null,
      "outputs": [
        {
          "output_type": "execute_result",
          "data": {
            "text/plain": [
              "PassengerId    0\n",
              "Survived       0\n",
              "Pclass         0\n",
              "Name           0\n",
              "Sex            0\n",
              "Age            0\n",
              "SibSp          0\n",
              "Parch          0\n",
              "Ticket         0\n",
              "Fare           0\n",
              "Embarked       0\n",
              "dtype: int64"
            ]
          },
          "metadata": {},
          "execution_count": 12
        }
      ]
    },
    {
      "cell_type": "markdown",
      "metadata": {
        "id": "a63cf06e"
      },
      "source": [
        "## Cleaning up data"
      ],
      "id": "a63cf06e"
    },
    {
      "cell_type": "markdown",
      "metadata": {
        "id": "23c99bc2"
      },
      "source": [
        "The names, passengerID,Ticket are not relevant so we will drop them."
      ],
      "id": "23c99bc2"
    },
    {
      "cell_type": "code",
      "metadata": {
        "id": "e34661e0"
      },
      "source": [
        "train_data.drop('Name', axis=1, inplace=True)\n",
        "train_data.drop('Ticket', axis=1, inplace=True)\n",
        "train_data.drop('PassengerId', axis=1, inplace=True)"
      ],
      "id": "e34661e0",
      "execution_count": null,
      "outputs": []
    },
    {
      "cell_type": "markdown",
      "metadata": {
        "id": "2f8e6d63"
      },
      "source": [
        "we can split the Pclass column into 3 categorical columns Pclass_1 Pclass_2 and Pclass_3 for Pclass 1 2 and 3 respectively each containg 0 or 1. Further we will drop Pclass column. We will do same for the other two."
      ],
      "id": "2f8e6d63"
    },
    {
      "cell_type": "code",
      "metadata": {
        "colab": {
          "base_uri": "https://localhost:8080/",
          "height": 206
        },
        "id": "642fd3a0",
        "outputId": "1a6186d2-7419-4319-acdb-83d97bbf8239"
      },
      "source": [
        "temp=pd.get_dummies(train_data, columns=['Sex'], drop_first=True)\n",
        "temp.head()"
      ],
      "id": "642fd3a0",
      "execution_count": null,
      "outputs": [
        {
          "output_type": "execute_result",
          "data": {
            "text/html": [
              "<div>\n",
              "<style scoped>\n",
              "    .dataframe tbody tr th:only-of-type {\n",
              "        vertical-align: middle;\n",
              "    }\n",
              "\n",
              "    .dataframe tbody tr th {\n",
              "        vertical-align: top;\n",
              "    }\n",
              "\n",
              "    .dataframe thead th {\n",
              "        text-align: right;\n",
              "    }\n",
              "</style>\n",
              "<table border=\"1\" class=\"dataframe\">\n",
              "  <thead>\n",
              "    <tr style=\"text-align: right;\">\n",
              "      <th></th>\n",
              "      <th>Survived</th>\n",
              "      <th>Pclass</th>\n",
              "      <th>Age</th>\n",
              "      <th>SibSp</th>\n",
              "      <th>Parch</th>\n",
              "      <th>Fare</th>\n",
              "      <th>Embarked</th>\n",
              "      <th>Sex_male</th>\n",
              "    </tr>\n",
              "  </thead>\n",
              "  <tbody>\n",
              "    <tr>\n",
              "      <th>0</th>\n",
              "      <td>0</td>\n",
              "      <td>3</td>\n",
              "      <td>22.0</td>\n",
              "      <td>1</td>\n",
              "      <td>0</td>\n",
              "      <td>7.2500</td>\n",
              "      <td>S</td>\n",
              "      <td>1</td>\n",
              "    </tr>\n",
              "    <tr>\n",
              "      <th>1</th>\n",
              "      <td>1</td>\n",
              "      <td>1</td>\n",
              "      <td>38.0</td>\n",
              "      <td>1</td>\n",
              "      <td>0</td>\n",
              "      <td>71.2833</td>\n",
              "      <td>C</td>\n",
              "      <td>0</td>\n",
              "    </tr>\n",
              "    <tr>\n",
              "      <th>2</th>\n",
              "      <td>1</td>\n",
              "      <td>3</td>\n",
              "      <td>26.0</td>\n",
              "      <td>0</td>\n",
              "      <td>0</td>\n",
              "      <td>7.9250</td>\n",
              "      <td>S</td>\n",
              "      <td>0</td>\n",
              "    </tr>\n",
              "    <tr>\n",
              "      <th>3</th>\n",
              "      <td>1</td>\n",
              "      <td>1</td>\n",
              "      <td>35.0</td>\n",
              "      <td>1</td>\n",
              "      <td>0</td>\n",
              "      <td>53.1000</td>\n",
              "      <td>S</td>\n",
              "      <td>0</td>\n",
              "    </tr>\n",
              "    <tr>\n",
              "      <th>4</th>\n",
              "      <td>0</td>\n",
              "      <td>3</td>\n",
              "      <td>35.0</td>\n",
              "      <td>0</td>\n",
              "      <td>0</td>\n",
              "      <td>8.0500</td>\n",
              "      <td>S</td>\n",
              "      <td>1</td>\n",
              "    </tr>\n",
              "  </tbody>\n",
              "</table>\n",
              "</div>"
            ],
            "text/plain": [
              "   Survived  Pclass   Age  SibSp  Parch     Fare Embarked  Sex_male\n",
              "0         0       3  22.0      1      0   7.2500        S         1\n",
              "1         1       1  38.0      1      0  71.2833        C         0\n",
              "2         1       3  26.0      0      0   7.9250        S         0\n",
              "3         1       1  35.0      1      0  53.1000        S         0\n",
              "4         0       3  35.0      0      0   8.0500        S         1"
            ]
          },
          "metadata": {},
          "execution_count": 14
        }
      ]
    },
    {
      "cell_type": "code",
      "metadata": {
        "colab": {
          "base_uri": "https://localhost:8080/",
          "height": 206
        },
        "id": "acb217c6",
        "outputId": "02fb20fd-8f47-48a3-db80-9e417b251eb0"
      },
      "source": [
        "temp=pd.get_dummies(temp, columns=['Pclass'])\n",
        "temp.head()"
      ],
      "id": "acb217c6",
      "execution_count": null,
      "outputs": [
        {
          "output_type": "execute_result",
          "data": {
            "text/html": [
              "<div>\n",
              "<style scoped>\n",
              "    .dataframe tbody tr th:only-of-type {\n",
              "        vertical-align: middle;\n",
              "    }\n",
              "\n",
              "    .dataframe tbody tr th {\n",
              "        vertical-align: top;\n",
              "    }\n",
              "\n",
              "    .dataframe thead th {\n",
              "        text-align: right;\n",
              "    }\n",
              "</style>\n",
              "<table border=\"1\" class=\"dataframe\">\n",
              "  <thead>\n",
              "    <tr style=\"text-align: right;\">\n",
              "      <th></th>\n",
              "      <th>Survived</th>\n",
              "      <th>Age</th>\n",
              "      <th>SibSp</th>\n",
              "      <th>Parch</th>\n",
              "      <th>Fare</th>\n",
              "      <th>Embarked</th>\n",
              "      <th>Sex_male</th>\n",
              "      <th>Pclass_1</th>\n",
              "      <th>Pclass_2</th>\n",
              "      <th>Pclass_3</th>\n",
              "    </tr>\n",
              "  </thead>\n",
              "  <tbody>\n",
              "    <tr>\n",
              "      <th>0</th>\n",
              "      <td>0</td>\n",
              "      <td>22.0</td>\n",
              "      <td>1</td>\n",
              "      <td>0</td>\n",
              "      <td>7.2500</td>\n",
              "      <td>S</td>\n",
              "      <td>1</td>\n",
              "      <td>0</td>\n",
              "      <td>0</td>\n",
              "      <td>1</td>\n",
              "    </tr>\n",
              "    <tr>\n",
              "      <th>1</th>\n",
              "      <td>1</td>\n",
              "      <td>38.0</td>\n",
              "      <td>1</td>\n",
              "      <td>0</td>\n",
              "      <td>71.2833</td>\n",
              "      <td>C</td>\n",
              "      <td>0</td>\n",
              "      <td>1</td>\n",
              "      <td>0</td>\n",
              "      <td>0</td>\n",
              "    </tr>\n",
              "    <tr>\n",
              "      <th>2</th>\n",
              "      <td>1</td>\n",
              "      <td>26.0</td>\n",
              "      <td>0</td>\n",
              "      <td>0</td>\n",
              "      <td>7.9250</td>\n",
              "      <td>S</td>\n",
              "      <td>0</td>\n",
              "      <td>0</td>\n",
              "      <td>0</td>\n",
              "      <td>1</td>\n",
              "    </tr>\n",
              "    <tr>\n",
              "      <th>3</th>\n",
              "      <td>1</td>\n",
              "      <td>35.0</td>\n",
              "      <td>1</td>\n",
              "      <td>0</td>\n",
              "      <td>53.1000</td>\n",
              "      <td>S</td>\n",
              "      <td>0</td>\n",
              "      <td>1</td>\n",
              "      <td>0</td>\n",
              "      <td>0</td>\n",
              "    </tr>\n",
              "    <tr>\n",
              "      <th>4</th>\n",
              "      <td>0</td>\n",
              "      <td>35.0</td>\n",
              "      <td>0</td>\n",
              "      <td>0</td>\n",
              "      <td>8.0500</td>\n",
              "      <td>S</td>\n",
              "      <td>1</td>\n",
              "      <td>0</td>\n",
              "      <td>0</td>\n",
              "      <td>1</td>\n",
              "    </tr>\n",
              "  </tbody>\n",
              "</table>\n",
              "</div>"
            ],
            "text/plain": [
              "   Survived   Age  SibSp  Parch  ...  Sex_male Pclass_1  Pclass_2  Pclass_3\n",
              "0         0  22.0      1      0  ...         1        0         0         1\n",
              "1         1  38.0      1      0  ...         0        1         0         0\n",
              "2         1  26.0      0      0  ...         0        0         0         1\n",
              "3         1  35.0      1      0  ...         0        1         0         0\n",
              "4         0  35.0      0      0  ...         1        0         0         1\n",
              "\n",
              "[5 rows x 10 columns]"
            ]
          },
          "metadata": {},
          "execution_count": 15
        }
      ]
    },
    {
      "cell_type": "code",
      "metadata": {
        "colab": {
          "base_uri": "https://localhost:8080/",
          "height": 206
        },
        "id": "b1b484f0",
        "outputId": "06fac8e3-4f78-4225-a462-02cedbd984d3"
      },
      "source": [
        "temp=pd.get_dummies(temp, columns=['Embarked'])\n",
        "temp.head()"
      ],
      "id": "b1b484f0",
      "execution_count": null,
      "outputs": [
        {
          "output_type": "execute_result",
          "data": {
            "text/html": [
              "<div>\n",
              "<style scoped>\n",
              "    .dataframe tbody tr th:only-of-type {\n",
              "        vertical-align: middle;\n",
              "    }\n",
              "\n",
              "    .dataframe tbody tr th {\n",
              "        vertical-align: top;\n",
              "    }\n",
              "\n",
              "    .dataframe thead th {\n",
              "        text-align: right;\n",
              "    }\n",
              "</style>\n",
              "<table border=\"1\" class=\"dataframe\">\n",
              "  <thead>\n",
              "    <tr style=\"text-align: right;\">\n",
              "      <th></th>\n",
              "      <th>Survived</th>\n",
              "      <th>Age</th>\n",
              "      <th>SibSp</th>\n",
              "      <th>Parch</th>\n",
              "      <th>Fare</th>\n",
              "      <th>Sex_male</th>\n",
              "      <th>Pclass_1</th>\n",
              "      <th>Pclass_2</th>\n",
              "      <th>Pclass_3</th>\n",
              "      <th>Embarked_C</th>\n",
              "      <th>Embarked_Q</th>\n",
              "      <th>Embarked_S</th>\n",
              "    </tr>\n",
              "  </thead>\n",
              "  <tbody>\n",
              "    <tr>\n",
              "      <th>0</th>\n",
              "      <td>0</td>\n",
              "      <td>22.0</td>\n",
              "      <td>1</td>\n",
              "      <td>0</td>\n",
              "      <td>7.2500</td>\n",
              "      <td>1</td>\n",
              "      <td>0</td>\n",
              "      <td>0</td>\n",
              "      <td>1</td>\n",
              "      <td>0</td>\n",
              "      <td>0</td>\n",
              "      <td>1</td>\n",
              "    </tr>\n",
              "    <tr>\n",
              "      <th>1</th>\n",
              "      <td>1</td>\n",
              "      <td>38.0</td>\n",
              "      <td>1</td>\n",
              "      <td>0</td>\n",
              "      <td>71.2833</td>\n",
              "      <td>0</td>\n",
              "      <td>1</td>\n",
              "      <td>0</td>\n",
              "      <td>0</td>\n",
              "      <td>1</td>\n",
              "      <td>0</td>\n",
              "      <td>0</td>\n",
              "    </tr>\n",
              "    <tr>\n",
              "      <th>2</th>\n",
              "      <td>1</td>\n",
              "      <td>26.0</td>\n",
              "      <td>0</td>\n",
              "      <td>0</td>\n",
              "      <td>7.9250</td>\n",
              "      <td>0</td>\n",
              "      <td>0</td>\n",
              "      <td>0</td>\n",
              "      <td>1</td>\n",
              "      <td>0</td>\n",
              "      <td>0</td>\n",
              "      <td>1</td>\n",
              "    </tr>\n",
              "    <tr>\n",
              "      <th>3</th>\n",
              "      <td>1</td>\n",
              "      <td>35.0</td>\n",
              "      <td>1</td>\n",
              "      <td>0</td>\n",
              "      <td>53.1000</td>\n",
              "      <td>0</td>\n",
              "      <td>1</td>\n",
              "      <td>0</td>\n",
              "      <td>0</td>\n",
              "      <td>0</td>\n",
              "      <td>0</td>\n",
              "      <td>1</td>\n",
              "    </tr>\n",
              "    <tr>\n",
              "      <th>4</th>\n",
              "      <td>0</td>\n",
              "      <td>35.0</td>\n",
              "      <td>0</td>\n",
              "      <td>0</td>\n",
              "      <td>8.0500</td>\n",
              "      <td>1</td>\n",
              "      <td>0</td>\n",
              "      <td>0</td>\n",
              "      <td>1</td>\n",
              "      <td>0</td>\n",
              "      <td>0</td>\n",
              "      <td>1</td>\n",
              "    </tr>\n",
              "  </tbody>\n",
              "</table>\n",
              "</div>"
            ],
            "text/plain": [
              "   Survived   Age  SibSp  Parch  ...  Pclass_3  Embarked_C  Embarked_Q  Embarked_S\n",
              "0         0  22.0      1      0  ...         1           0           0           1\n",
              "1         1  38.0      1      0  ...         0           1           0           0\n",
              "2         1  26.0      0      0  ...         1           0           0           1\n",
              "3         1  35.0      1      0  ...         0           0           0           1\n",
              "4         0  35.0      0      0  ...         1           0           0           1\n",
              "\n",
              "[5 rows x 12 columns]"
            ]
          },
          "metadata": {},
          "execution_count": 16
        }
      ]
    },
    {
      "cell_type": "markdown",
      "metadata": {
        "id": "8fdce41a"
      },
      "source": [
        "SibSp and Parch refer to the number of the Siblings/spouses , Parents/Children respectively so we merge them into a single variable Single which contains 0 if the paseenger is alone and 0 if he/she isn't."
      ],
      "id": "8fdce41a"
    },
    {
      "cell_type": "code",
      "metadata": {
        "colab": {
          "base_uri": "https://localhost:8080/",
          "height": 206
        },
        "id": "96376c18",
        "outputId": "e1a3591a-c7cf-4703-ede2-11b9b8a783de"
      },
      "source": [
        "temp['Single']=np.where((train_data[\"SibSp\"]+train_data[\"Parch\"])>0, 0, 1)\n",
        "temp.drop('SibSp', axis=1, inplace=True)\n",
        "temp.drop('Parch', axis=1, inplace=True)\n",
        "train_data=temp\n",
        "train_data.head()"
      ],
      "id": "96376c18",
      "execution_count": null,
      "outputs": [
        {
          "output_type": "execute_result",
          "data": {
            "text/html": [
              "<div>\n",
              "<style scoped>\n",
              "    .dataframe tbody tr th:only-of-type {\n",
              "        vertical-align: middle;\n",
              "    }\n",
              "\n",
              "    .dataframe tbody tr th {\n",
              "        vertical-align: top;\n",
              "    }\n",
              "\n",
              "    .dataframe thead th {\n",
              "        text-align: right;\n",
              "    }\n",
              "</style>\n",
              "<table border=\"1\" class=\"dataframe\">\n",
              "  <thead>\n",
              "    <tr style=\"text-align: right;\">\n",
              "      <th></th>\n",
              "      <th>Survived</th>\n",
              "      <th>Age</th>\n",
              "      <th>Fare</th>\n",
              "      <th>Sex_male</th>\n",
              "      <th>Pclass_1</th>\n",
              "      <th>Pclass_2</th>\n",
              "      <th>Pclass_3</th>\n",
              "      <th>Embarked_C</th>\n",
              "      <th>Embarked_Q</th>\n",
              "      <th>Embarked_S</th>\n",
              "      <th>Single</th>\n",
              "    </tr>\n",
              "  </thead>\n",
              "  <tbody>\n",
              "    <tr>\n",
              "      <th>0</th>\n",
              "      <td>0</td>\n",
              "      <td>22.0</td>\n",
              "      <td>7.2500</td>\n",
              "      <td>1</td>\n",
              "      <td>0</td>\n",
              "      <td>0</td>\n",
              "      <td>1</td>\n",
              "      <td>0</td>\n",
              "      <td>0</td>\n",
              "      <td>1</td>\n",
              "      <td>0</td>\n",
              "    </tr>\n",
              "    <tr>\n",
              "      <th>1</th>\n",
              "      <td>1</td>\n",
              "      <td>38.0</td>\n",
              "      <td>71.2833</td>\n",
              "      <td>0</td>\n",
              "      <td>1</td>\n",
              "      <td>0</td>\n",
              "      <td>0</td>\n",
              "      <td>1</td>\n",
              "      <td>0</td>\n",
              "      <td>0</td>\n",
              "      <td>0</td>\n",
              "    </tr>\n",
              "    <tr>\n",
              "      <th>2</th>\n",
              "      <td>1</td>\n",
              "      <td>26.0</td>\n",
              "      <td>7.9250</td>\n",
              "      <td>0</td>\n",
              "      <td>0</td>\n",
              "      <td>0</td>\n",
              "      <td>1</td>\n",
              "      <td>0</td>\n",
              "      <td>0</td>\n",
              "      <td>1</td>\n",
              "      <td>1</td>\n",
              "    </tr>\n",
              "    <tr>\n",
              "      <th>3</th>\n",
              "      <td>1</td>\n",
              "      <td>35.0</td>\n",
              "      <td>53.1000</td>\n",
              "      <td>0</td>\n",
              "      <td>1</td>\n",
              "      <td>0</td>\n",
              "      <td>0</td>\n",
              "      <td>0</td>\n",
              "      <td>0</td>\n",
              "      <td>1</td>\n",
              "      <td>0</td>\n",
              "    </tr>\n",
              "    <tr>\n",
              "      <th>4</th>\n",
              "      <td>0</td>\n",
              "      <td>35.0</td>\n",
              "      <td>8.0500</td>\n",
              "      <td>1</td>\n",
              "      <td>0</td>\n",
              "      <td>0</td>\n",
              "      <td>1</td>\n",
              "      <td>0</td>\n",
              "      <td>0</td>\n",
              "      <td>1</td>\n",
              "      <td>1</td>\n",
              "    </tr>\n",
              "  </tbody>\n",
              "</table>\n",
              "</div>"
            ],
            "text/plain": [
              "   Survived   Age     Fare  ...  Embarked_Q  Embarked_S  Single\n",
              "0         0  22.0   7.2500  ...           0           1       0\n",
              "1         1  38.0  71.2833  ...           0           0       0\n",
              "2         1  26.0   7.9250  ...           0           1       1\n",
              "3         1  35.0  53.1000  ...           0           1       0\n",
              "4         0  35.0   8.0500  ...           0           1       1\n",
              "\n",
              "[5 rows x 11 columns]"
            ]
          },
          "metadata": {},
          "execution_count": 17
        }
      ]
    },
    {
      "cell_type": "markdown",
      "metadata": {
        "id": "170ad965"
      },
      "source": [
        "Now we Apply same changes to the test data"
      ],
      "id": "170ad965"
    },
    {
      "cell_type": "markdown",
      "metadata": {
        "id": "1e69c7a7"
      },
      "source": [
        "## Exploratory Analysis of Data:"
      ],
      "id": "1e69c7a7"
    },
    {
      "cell_type": "markdown",
      "metadata": {
        "id": "7c39d1b7"
      },
      "source": [
        "#### Age-"
      ],
      "id": "7c39d1b7"
    },
    {
      "cell_type": "code",
      "metadata": {
        "colab": {
          "base_uri": "https://localhost:8080/",
          "height": 388
        },
        "id": "55b7b3f3",
        "outputId": "bdf7cbd0-4d1b-4bc9-f3f6-dcd21182c6ca"
      },
      "source": [
        "plt.figure(figsize=(10,6))\n",
        "ax = sns.histplot(data=train_data,x='Age',hue='Survived',palette=\"rocket\",bins=20,kde='true',alpha=0.5)\n",
        "plt.legend(['Survived', 'Died'])\n",
        "ax.set(xlabel='Age')\n",
        "plt.xlim(0,90)\n",
        "plt.show()"
      ],
      "id": "55b7b3f3",
      "execution_count": null,
      "outputs": [
        {
          "output_type": "display_data",
          "data": {
            "image/png": "[encoded data removed]",
            "text/plain": [
              "<Figure size 720x432 with 1 Axes>"
            ]
          },
          "metadata": {
            "needs_background": "light"
          }
        }
      ]
    },
    {
      "cell_type": "markdown",
      "metadata": {
        "id": "a9cce503"
      },
      "source": [
        "The people who are younger then ~16 have higher chance of survival hence we add a new categorical variable IsMinor"
      ],
      "id": "a9cce503"
    },
    {
      "cell_type": "code",
      "metadata": {
        "id": "98b5e30e"
      },
      "source": [
        "train_data['IsMinor']=np.where(train_data['Age']<=16, 1, 0)"
      ],
      "id": "98b5e30e",
      "execution_count": null,
      "outputs": []
    },
    {
      "cell_type": "markdown",
      "metadata": {
        "id": "555636d0"
      },
      "source": [
        "#### Fare -"
      ],
      "id": "555636d0"
    },
    {
      "cell_type": "code",
      "metadata": {
        "colab": {
          "base_uri": "https://localhost:8080/",
          "height": 388
        },
        "id": "20ee847f",
        "outputId": "3d108ead-c148-4ef0-a6b8-c7f140ea7b0a"
      },
      "source": [
        "plt.figure(figsize=(10,6))\n",
        "ax = sns.kdeplot(data=train_data,x='Fare',hue='Survived',palette=\"rocket\",shade='True')\n",
        "plt.legend(['Survived', 'Died'])\n",
        "ax.set(xlabel='Fare')\n",
        "plt.xlim(0,200)\n",
        "plt.show()"
      ],
      "id": "20ee847f",
      "execution_count": null,
      "outputs": [
        {
          "output_type": "display_data",
          "data": {
            "image/png": "[encoded data removed]",
            "text/plain": [
              "<Figure size 720x432 with 1 Axes>"
            ]
          },
          "metadata": {
            "needs_background": "light"
          }
        }
      ]
    },
    {
      "cell_type": "markdown",
      "metadata": {
        "id": "64f41d51"
      },
      "source": [
        "From the above density plot the fare seems to be a pretty significant factor. People who paid higher fares had better shot at survival."
      ],
      "id": "64f41d51"
    },
    {
      "cell_type": "markdown",
      "metadata": {
        "id": "dfedd4ad"
      },
      "source": [
        "#### Gender-"
      ],
      "id": "dfedd4ad"
    },
    {
      "cell_type": "code",
      "metadata": {
        "colab": {
          "base_uri": "https://localhost:8080/",
          "height": 388
        },
        "id": "4b336a75",
        "outputId": "9c604dce-1b1f-48e0-b971-971da08850e0"
      },
      "source": [
        "plt.figure(figsize=(10,6))\n",
        "ax = sns.countplot(data=tit_data,x='Sex',hue='Survived',palette=\"rocket\",alpha=0.7)\n",
        "plt.legend(['Died','Survived'])\n",
        "ax.set(xlabel='Fare')\n",
        "plt.show()"
      ],
      "id": "4b336a75",
      "execution_count": null,
      "outputs": [
        {
          "output_type": "display_data",
          "data": {
            "image/png": "[encoded data removed]",
            "text/plain": [
              "<Figure size 720x432 with 1 Axes>"
            ]
          },
          "metadata": {
            "needs_background": "light"
          }
        }
      ]
    },
    {
      "cell_type": "markdown",
      "metadata": {
        "id": "8f7c8278"
      },
      "source": [
        "#### Pclass-"
      ],
      "id": "8f7c8278"
    },
    {
      "cell_type": "code",
      "metadata": {
        "colab": {
          "base_uri": "https://localhost:8080/",
          "height": 388
        },
        "id": "0fc31416",
        "outputId": "d9856f6c-6ffd-4023-92db-1ef4e99aac2e"
      },
      "source": [
        "plt.figure(figsize=(10,6))\n",
        "ax = sns.countplot(data=tit_data,x='Pclass',hue='Survived',palette=\"rocket\",alpha=0.7)\n",
        "plt.legend(['Died','Survived'])\n",
        "ax.set(xlabel='Fare')\n",
        "plt.show()"
      ],
      "id": "0fc31416",
      "execution_count": null,
      "outputs": [
        {
          "output_type": "display_data",
          "data": {
            "image/png": "[encoded data removed]",
            "text/plain": [
              "<Figure size 720x432 with 1 Axes>"
            ]
          },
          "metadata": {
            "needs_background": "light"
          }
        }
      ]
    },
    {
      "cell_type": "markdown",
      "metadata": {
        "id": "0d047205"
      },
      "source": [
        "#### Embarked-"
      ],
      "id": "0d047205"
    },
    {
      "cell_type": "code",
      "metadata": {
        "colab": {
          "base_uri": "https://localhost:8080/",
          "height": 388
        },
        "id": "4866f547",
        "outputId": "9321d54a-5841-4ca7-a6e5-7724a58388d2"
      },
      "source": [
        "plt.figure(figsize=(10,6))\n",
        "ax = sns.countplot(data=tit_data,x='Embarked',hue='Survived',palette=\"rocket\",alpha=0.7)\n",
        "plt.legend(['Died','Survived'])\n",
        "ax.set(xlabel='Embarked')\n",
        "plt.show()"
      ],
      "id": "4866f547",
      "execution_count": null,
      "outputs": [
        {
          "output_type": "display_data",
          "data": {
            "image/png": "[encoded data removed]",
            "text/plain": [
              "<Figure size 720x432 with 1 Axes>"
            ]
          },
          "metadata": {
            "needs_background": "light"
          }
        }
      ]
    },
    {
      "cell_type": "markdown",
      "metadata": {
        "id": "71ad6956"
      },
      "source": [
        "#### Single"
      ],
      "id": "71ad6956"
    },
    {
      "cell_type": "code",
      "metadata": {
        "colab": {
          "base_uri": "https://localhost:8080/",
          "height": 406
        },
        "id": "8eacccd8",
        "outputId": "3268ac68-74f1-4996-d196-a23bbfe700a4"
      },
      "source": [
        "plt.figure(figsize=(10,6))\n",
        "ax = sns.countplot(data=train_data,x='Single',hue='Survived',palette=\"rocket\",alpha=0.7)\n",
        "plt.legend(['Died','Survived'])"
      ],
      "id": "8eacccd8",
      "execution_count": null,
      "outputs": [
        {
          "output_type": "execute_result",
          "data": {
            "text/plain": [
              "<matplotlib.legend.Legend at 0x7fdac5512090>"
            ]
          },
          "metadata": {},
          "execution_count": 24
        },
        {
          "output_type": "display_data",
          "data": {
            "image/png": "[encoded data removed]",
            "text/plain": [
              "<Figure size 720x432 with 1 Axes>"
            ]
          },
          "metadata": {
            "needs_background": "light"
          }
        }
      ]
    },
    {
      "cell_type": "markdown",
      "metadata": {
        "id": "c8f05c4f"
      },
      "source": [
        "After analysing this one can conclude that gender and Passenger class were pretty significant factors in deciding the survival. Also the people who Embarked at C - Cherbourg seem to have better chances of survival, and the people who were travelling with the family appear to have better probabilities of survival."
      ],
      "id": "c8f05c4f"
    },
    {
      "cell_type": "markdown",
      "metadata": {
        "id": "be0ef432"
      },
      "source": [
        "## Logistic Regression"
      ],
      "id": "be0ef432"
    },
    {
      "cell_type": "code",
      "metadata": {
        "id": "f9366032"
      },
      "source": [
        "x=train_data.drop(\"Survived\",axis=1)\n",
        "y=train_data[\"Survived\"]\n",
        "cols=list(x)"
      ],
      "id": "f9366032",
      "execution_count": null,
      "outputs": []
    },
    {
      "cell_type": "code",
      "metadata": {
        "id": "cc504795"
      },
      "source": [
        "from sklearn.model_selection import train_test_split\n",
        "x_train, x_test, y_train, y_test = train_test_split(x, y, test_size=0.20, random_state=11)"
      ],
      "id": "cc504795",
      "execution_count": null,
      "outputs": []
    },
    {
      "cell_type": "code",
      "metadata": {
        "id": "c3e71f99"
      },
      "source": [
        "from sklearn.preprocessing import StandardScaler#scaling the features\n",
        "scaler= StandardScaler()\n",
        "scaler.fit(x_train)\n",
        "x_train = scaler.transform(x_train)\n",
        "x_test = scaler.transform(x_test)\n"
      ],
      "id": "c3e71f99",
      "execution_count": null,
      "outputs": []
    },
    {
      "cell_type": "code",
      "metadata": {
        "id": "3ad75617"
      },
      "source": [
        "from sklearn.linear_model import LogisticRegression\n",
        "logreg = LogisticRegression()\n",
        "logreg.fit(x_train, y_train)\n",
        "y_pred = logreg.predict(x_test)\n"
      ],
      "id": "3ad75617",
      "execution_count": null,
      "outputs": []
    },
    {
      "cell_type": "code",
      "metadata": {
        "id": "b5788699"
      },
      "source": [
        "from sklearn.metrics import accuracy_score, confusion_matrix, classification_report"
      ],
      "id": "b5788699",
      "execution_count": null,
      "outputs": []
    },
    {
      "cell_type": "code",
      "metadata": {
        "colab": {
          "base_uri": "https://localhost:8080/"
        },
        "id": "3650c8ee",
        "outputId": "9790ebaf-1b62-495d-97a4-aebfe55f9433"
      },
      "source": [
        "accuracy_score(y_test, y_pred)"
      ],
      "id": "3650c8ee",
      "execution_count": null,
      "outputs": [
        {
          "output_type": "execute_result",
          "data": {
            "text/plain": [
              "0.8491620111731844"
            ]
          },
          "metadata": {},
          "execution_count": 30
        }
      ]
    },
    {
      "cell_type": "code",
      "metadata": {
        "colab": {
          "base_uri": "https://localhost:8080/"
        },
        "id": "28c79d10",
        "outputId": "164a3800-cb8e-4eb6-e4d1-4c0710ef445a"
      },
      "source": [
        "confusion_matrix(y_test, y_pred)"
      ],
      "id": "28c79d10",
      "execution_count": null,
      "outputs": [
        {
          "output_type": "execute_result",
          "data": {
            "text/plain": [
              "array([[107,  11],\n",
              "       [ 16,  45]])"
            ]
          },
          "metadata": {},
          "execution_count": 31
        }
      ]
    },
    {
      "cell_type": "markdown",
      "metadata": {
        "id": "1f64057e"
      },
      "source": [
        "## Predict"
      ],
      "id": "1f64057e"
    },
    {
      "cell_type": "code",
      "metadata": {
        "colab": {
          "base_uri": "https://localhost:8080/"
        },
        "id": "d971e688",
        "outputId": "b109200a-a7b9-4a87-c200-0dbd9d5b19cd"
      },
      "source": [
        "Name=input(\"Input name(not relevant):\")\n",
        "Age=float(input(\"Input Age(0-90):\"))\n",
        "while Age not in range(0,91):\n",
        "    Age=float(input(\"Not a valid Age! Enter Age Again: \"))\n",
        "Fare=float(input(\"Input Fare ('Input the fare somewhere between 0-200 for more accurate prediction') max=500: \"))\n",
        "while Fare not in range(501):\n",
        "    Fare=float(input(\"Invalid Fare Amount!!! Input Fare(0-500):\"))\n",
        "Embarked=input(\"Embarked From(C = Cherbourg, Q = Queenstown, S = Southampton):\").upper()\n",
        "while Embarked not in ['S','Q','C']:\n",
        "    Embarked=input(\"Invalid!! Embarked From (C = Cherbourg, Q = Queenstown, S = Southampton):\").upper()\n",
        "Pclass=int(input(\"Passenger Class  (1 = 1st, 2 = 2nd, 3 = 3rd): \"))\n",
        "while Pclass not in range(1,4):\n",
        "    Pclass=int(input(\"Invalid Passenger Class!! Passenger Class  (1 = 1st, 2 = 2nd, 3 = 3rd): \"))    \n",
        "Sex=input(\"Gender(male/female): \").lower()\n",
        "while Sex not in [\"male\",\"female\"]:\n",
        "    Sex=input(\"Not a valid input!! Gender(male/female): \").lower()\n",
        "SibSp=int(input(\"Enter Number of Siblings/Spouce: \"))\n",
        "if SibSp==None:\n",
        "    SibSp=0\n",
        "Parch=int(input(\"Enter Number of Parents/Children: \"))\n",
        "if Parch==None:\n",
        "    Parch=0\n",
        "Ticket=input(\"Ticket(Not Relevant ):\")\n",
        "PassengerId=input(\"PassengerId (not relevent): \")\n"
      ],
      "id": "d971e688",
      "execution_count": null,
      "outputs": [
        {
          "name": "stdout",
          "output_type": "stream",
          "text": [
            "Input name(not relevant):Sumit\n",
            "Input Age(0-90):23\n",
            "Input Fare ('Input the fare somewhere between 0-200 for more accurate prediction') max=500: 45\n",
            "Embarked From(C = Cherbourg, Q = Queenstown, S = Southampton):Q\n",
            "Passenger Class  (1 = 1st, 2 = 2nd, 3 = 3rd): 2\n",
            "Gender(male/female): male\n",
            "Enter Number of Siblings/Spouce: 1\n",
            "Enter Number of Parents/Children: 2\n",
            "Ticket(Not Relevant ):\n",
            "PassengerId (not relevent): \n"
          ]
        }
      ]
    },
    {
      "cell_type": "code",
      "metadata": {
        "colab": {
          "base_uri": "https://localhost:8080/"
        },
        "id": "1f0b9d40",
        "outputId": "4aadb457-6ec8-4b42-e450-1b99dfd2e431"
      },
      "source": [
        "\n",
        "input_dict = {key: None for key in cols}\n",
        "input_dict['Age']=Age\n",
        "input_dict['Fare']=Fare\n",
        "input_dict['Sex_male']=1 if (Sex==\"male\") else 0\n",
        "input_dict['Pclass_1']=1 if(Pclass==1) else 0\n",
        "input_dict['Pclass_2']=1 if(Pclass==2) else 0\n",
        "input_dict['Pclass_3']=1 if(Pclass==3) else 0\n",
        "input_dict['Embarked_C']=1 if(Embarked=='C') else 0\n",
        "input_dict['Embarked_Q']=1 if(Embarked=='Q') else 0\n",
        "input_dict['Embarked_S']=1 if(Embarked=='S') else 0\n",
        "input_dict['Single']=1 if(SibSp+Parch==0) else 0\n",
        "input_dict['IsMinor']=1 if(Age<=16) else 0\n",
        "print(input_dict)\n",
        "test_data=np.array(list(i for i in input_dict.values()))\n",
        "test_data=test_data.reshape(1,-1)\n",
        "test_data=scaler.transform(test_data)"
      ],
      "id": "1f0b9d40",
      "execution_count": null,
      "outputs": [
        {
          "output_type": "stream",
          "name": "stdout",
          "text": [
            "{'Age': 23.0, 'Fare': 45.0, 'Sex_male': 0, 'Pclass_1': 0, 'Pclass_2': 1, 'Pclass_3': 0, 'Embarked_C': 0, 'Embarked_Q': 1, 'Embarked_S': 0, 'Single': 0, 'IsMinor': 0}\n"
          ]
        }
      ]
    },
    {
      "cell_type": "code",
      "metadata": {
        "colab": {
          "base_uri": "https://localhost:8080/"
        },
        "id": "98b8fa06",
        "outputId": "eb132a2c-8c74-46d2-a1f2-16ac3b69d031"
      },
      "source": [
        "ans= logreg.predict(test_data)\n",
        "print(ans)\n",
        "ans_p= logreg.predict_proba(test_data)\n",
        "print(ans_p)\n",
        "print(f\"{Name+''''s''' if (Name is not '') else 'Your'} chances of survival are roughly {ans_p[0][1]*100:.2f} %\")\n",
        "print(\"Probably would have survived\") if (ans ==1) else print(\"Things don't look very good. Probaly wouldn't have survived\")"
      ],
      "id": "98b8fa06",
      "execution_count": null,
      "outputs": [
        {
          "output_type": "stream",
          "name": "stdout",
          "text": [
            "[1]\n",
            "[[0.13909474 0.86090526]]\n",
            "Sumit's chances of survival are roughly 86.09 %\n",
            "Probably would have survived\n"
          ]
        }
      ]
    },
    {
      "cell_type": "markdown",
      "metadata": {
        "id": "dc768685"
      },
      "source": [
        "## Refrences:"
      ],
      "id": "dc768685"
    },
    {
      "cell_type": "markdown",
      "metadata": {
        "id": "839c46b0"
      },
      "source": [
        "https://www.kaggle.com/mnassrib/titanic-logistic-regression-with-python#4.-Logistic-Regression-and-Results\n",
        "\n",
        "https://stackoverflow.com/questions/18837262/convert-python-dict-into-a-dataframe\n",
        "\n",
        "https://www.geeksforgeeks.org/how-to-convert-dictionary-to-pandas-dataframe/\n",
        "\n",
        "https://medium.com/@morganjonesartist/color-guide-to-seaborn-palettes-da849406d44f\n",
        "\n",
        "https://seaborn.pydata.org/generated/seaborn.histplot.html?highlight=histplot#seaborn.histplot\n",
        "\n",
        "https://scikit-learn.org/stable/modules/generated/sklearn.linear_model.LogisticRegression.html\n",
        "\n",
        "https://stackoverflow.com/questions/16858652/how-to-find-the-corresponding-class-in-clf-predict-proba#16859091\n",
        "\n",
        "https://datascienceplus.com/logistic-regression-with-python-using-titanic-data/"
      ],
      "id": "839c46b0"
    },
    {
      "cell_type": "code",
      "metadata": {
        "id": "87610bd6"
      },
      "source": [
        ""
      ],
      "id": "87610bd6",
      "execution_count": null,
      "outputs": []
    }
  ]
}